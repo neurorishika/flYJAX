{
 "cells": [
  {
   "cell_type": "code",
   "execution_count": 51,
   "metadata": {},
   "outputs": [
    {
     "data": {
      "text/plain": [
       "['trial_lengths.csv',\n",
       " 'trial_ends.csv',\n",
       " 'trial_starts.csv',\n",
       " 'trial_counts.csv',\n",
       " 'experiments',\n",
       " 'choices.csv',\n",
       " 'quality_control.csv',\n",
       " 'metadata.csv',\n",
       " 'rewards.csv']"
      ]
     },
     "execution_count": 51,
     "metadata": {},
     "output_type": "execute_result"
    }
   ],
   "source": [
    "import os\n",
    "import pandas as pd\n",
    "import numpy as np\n",
    "\n",
    "data_folder = '../data/dmData_14-09-2023_control/'\n",
    "minimal_trials = 180\n",
    "os.listdir(data_folder)"
   ]
  },
  {
   "cell_type": "code",
   "execution_count": 52,
   "metadata": {},
   "outputs": [],
   "source": [
    "choices = np.loadtxt(data_folder + 'choices.csv', delimiter=',')\n",
    "rewards = np.loadtxt(data_folder + 'rewards.csv', delimiter=',')\n",
    "# remove the nan values to make a staggered array\n",
    "cleaned_choices = []\n",
    "cleaned_rewards = []\n",
    "for i in range(len(choices)):\n",
    "    c = choices[i][~np.isnan(choices[i])]\n",
    "    r = rewards[i][~np.isnan(rewards[i])]\n",
    "    if len(c) < minimal_trials:\n",
    "        continue\n",
    "    cleaned_choices.append(c)\n",
    "    cleaned_rewards.append(r)\n",
    "cleaned_choices = np.array(cleaned_choices, dtype=object)\n",
    "cleaned_rewards = np.array(cleaned_rewards, dtype=object)\n"
   ]
  },
  {
   "cell_type": "code",
   "execution_count": 55,
   "metadata": {},
   "outputs": [],
   "source": [
    "import os\n",
    "import pandas as pd\n",
    "import numpy as np\n",
    "\n",
    "def fetch_choices_and_rewards(data_folder, minimum_trials):\n",
    "    # List files in the data folder\n",
    "    files = os.listdir(data_folder)\n",
    "    \n",
    "    # Load choices and rewards data\n",
    "    choices = np.loadtxt(data_folder + 'choices.csv', delimiter=',')\n",
    "    rewards = np.loadtxt(data_folder + 'rewards.csv', delimiter=',')\n",
    "    \n",
    "    # Remove the nan values to make a staggered array\n",
    "    cleaned_choices = []\n",
    "    cleaned_rewards = []\n",
    "    for i in range(len(choices)):\n",
    "        c = choices[i][~np.isnan(choices[i])]\n",
    "        r = rewards[i][~np.isnan(rewards[i])]\n",
    "        if len(c) < minimum_trials:\n",
    "            continue\n",
    "        cleaned_choices.append(c)\n",
    "        cleaned_rewards.append(r)\n",
    "    \n",
    "    cleaned_choices = np.array(cleaned_choices, dtype=object)\n",
    "    cleaned_rewards = np.array(cleaned_rewards, dtype=object)\n",
    "    \n",
    "    return cleaned_choices, cleaned_rewards\n",
    "\n",
    "# Example usage\n",
    "data_folder = '../data/dmData_14-09-2023_control/'\n",
    "minimum_trials = 150\n",
    "cleaned_choices, cleaned_rewards = process_data(data_folder, minimum_trials)"
   ]
  },
  {
   "cell_type": "code",
   "execution_count": 56,
   "metadata": {},
   "outputs": [
    {
     "data": {
      "text/plain": [
       "(425, 425)"
      ]
     },
     "execution_count": 56,
     "metadata": {},
     "output_type": "execute_result"
    }
   ],
   "source": [
    "len(cleaned_choices), len(cleaned_rewards)"
   ]
  },
  {
   "cell_type": "code",
   "execution_count": 58,
   "metadata": {},
   "outputs": [],
   "source": [
    "data_folder = '../data/processed_data_30-01-2024_control/'"
   ]
  },
  {
   "cell_type": "code",
   "execution_count": 60,
   "metadata": {},
   "outputs": [],
   "source": [
    "encounter_data = [pd.read_csv(os.path.join(data_folder,f)) for f in list(filter(lambda x: 'encounter' in x, os.listdir(data_folder)))]"
   ]
  },
  {
   "cell_type": "code",
   "execution_count": 61,
   "metadata": {},
   "outputs": [
    {
     "data": {
      "text/html": [
       "<div>\n",
       "<style scoped>\n",
       "    .dataframe tbody tr th:only-of-type {\n",
       "        vertical-align: middle;\n",
       "    }\n",
       "\n",
       "    .dataframe tbody tr th {\n",
       "        vertical-align: top;\n",
       "    }\n",
       "\n",
       "    .dataframe thead th {\n",
       "        text-align: right;\n",
       "    }\n",
       "</style>\n",
       "<table border=\"1\" class=\"dataframe\">\n",
       "  <thead>\n",
       "    <tr style=\"text-align: right;\">\n",
       "      <th></th>\n",
       "      <th>Encounter Number</th>\n",
       "      <th>Current Trial</th>\n",
       "      <th>Current Odor</th>\n",
       "      <th>Encounter Decision</th>\n",
       "      <th>Encounter Duration</th>\n",
       "      <th>Encounter Reward</th>\n",
       "      <th>Encounter Start Time</th>\n",
       "    </tr>\n",
       "  </thead>\n",
       "  <tbody>\n",
       "    <tr>\n",
       "      <th>0</th>\n",
       "      <td>0</td>\n",
       "      <td>0</td>\n",
       "      <td>0.0</td>\n",
       "      <td>0</td>\n",
       "      <td>5.683805</td>\n",
       "      <td>0</td>\n",
       "      <td>06-09-2023 09:54:05:615917</td>\n",
       "    </tr>\n",
       "    <tr>\n",
       "      <th>1</th>\n",
       "      <td>1</td>\n",
       "      <td>0</td>\n",
       "      <td>1.0</td>\n",
       "      <td>1</td>\n",
       "      <td>2.247991</td>\n",
       "      <td>0</td>\n",
       "      <td>06-09-2023 09:54:11:299723</td>\n",
       "    </tr>\n",
       "    <tr>\n",
       "      <th>2</th>\n",
       "      <td>2</td>\n",
       "      <td>1</td>\n",
       "      <td>0.0</td>\n",
       "      <td>0</td>\n",
       "      <td>14.204504</td>\n",
       "      <td>0</td>\n",
       "      <td>06-09-2023 09:54:13:547713</td>\n",
       "    </tr>\n",
       "    <tr>\n",
       "      <th>3</th>\n",
       "      <td>3</td>\n",
       "      <td>1</td>\n",
       "      <td>1.0</td>\n",
       "      <td>1</td>\n",
       "      <td>2.066620</td>\n",
       "      <td>0</td>\n",
       "      <td>06-09-2023 09:54:27:752218</td>\n",
       "    </tr>\n",
       "    <tr>\n",
       "      <th>4</th>\n",
       "      <td>4</td>\n",
       "      <td>2</td>\n",
       "      <td>0.0</td>\n",
       "      <td>0</td>\n",
       "      <td>3.052410</td>\n",
       "      <td>0</td>\n",
       "      <td>06-09-2023 09:54:29:818838</td>\n",
       "    </tr>\n",
       "  </tbody>\n",
       "</table>\n",
       "</div>"
      ],
      "text/plain": [
       "   Encounter Number  Current Trial  Current Odor  Encounter Decision  \\\n",
       "0                 0              0           0.0                   0   \n",
       "1                 1              0           1.0                   1   \n",
       "2                 2              1           0.0                   0   \n",
       "3                 3              1           1.0                   1   \n",
       "4                 4              2           0.0                   0   \n",
       "\n",
       "   Encounter Duration  Encounter Reward        Encounter Start Time  \n",
       "0            5.683805                 0  06-09-2023 09:54:05:615917  \n",
       "1            2.247991                 0  06-09-2023 09:54:11:299723  \n",
       "2           14.204504                 0  06-09-2023 09:54:13:547713  \n",
       "3            2.066620                 0  06-09-2023 09:54:27:752218  \n",
       "4            3.052410                 0  06-09-2023 09:54:29:818838  "
      ]
     },
     "execution_count": 61,
     "metadata": {},
     "output_type": "execute_result"
    }
   ],
   "source": [
    "encounter_data[0].head()"
   ]
  },
  {
   "cell_type": "code",
   "execution_count": null,
   "metadata": {},
   "outputs": [],
   "source": []
  }
 ],
 "metadata": {
  "kernelspec": {
   "display_name": ".venv",
   "language": "python",
   "name": "python3"
  },
  "language_info": {
   "codemirror_mode": {
    "name": "ipython",
    "version": 3
   },
   "file_extension": ".py",
   "mimetype": "text/x-python",
   "name": "python",
   "nbconvert_exporter": "python",
   "pygments_lexer": "ipython3",
   "version": "3.10.14"
  }
 },
 "nbformat": 4,
 "nbformat_minor": 2
}
