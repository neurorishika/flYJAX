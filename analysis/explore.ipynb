{
 "cells": [
  {
   "cell_type": "code",
   "execution_count": 51,
   "metadata": {},
   "outputs": [
    {
     "data": {
      "text/plain": [
       "['trial_lengths.csv',\n",
       " 'trial_ends.csv',\n",
       " 'trial_starts.csv',\n",
       " 'trial_counts.csv',\n",
       " 'experiments',\n",
       " 'choices.csv',\n",
       " 'quality_control.csv',\n",
       " 'metadata.csv',\n",
       " 'rewards.csv']"
      ]
     },
     "execution_count": 51,
     "metadata": {},
     "output_type": "execute_result"
    }
   ],
   "source": [
    "import os\n",
    "import pandas as pd\n",
    "import numpy as np\n",
    "\n",
    "data_folder = '../data/dmData_14-09-2023_control/'\n",
    "minimal_trials = 180\n",
    "os.listdir(data_folder)"
   ]
  },
  {
   "cell_type": "code",
   "execution_count": 52,
   "metadata": {},
   "outputs": [],
   "source": [
    "choices = np.loadtxt(data_folder + 'choices.csv', delimiter=',')\n",
    "rewards = np.loadtxt(data_folder + 'rewards.csv', delimiter=',')\n",
    "# remove the nan values to make a staggered array\n",
    "cleaned_choices = []\n",
    "cleaned_rewards = []\n",
    "for i in range(len(choices)):\n",
    "    c = choices[i][~np.isnan(choices[i])]\n",
    "    r = rewards[i][~np.isnan(rewards[i])]\n",
    "    if len(c) < minimal_trials:\n",
    "        continue\n",
    "    cleaned_choices.append(c)\n",
    "    cleaned_rewards.append(r)\n",
    "cleaned_choices = np.array(cleaned_choices, dtype=object)\n",
    "cleaned_rewards = np.array(cleaned_rewards, dtype=object)\n"
   ]
  },
  {
   "cell_type": "code",
   "execution_count": null,
   "metadata": {},
   "outputs": [],
   "source": [
    "import os\n",
    "import pandas as pd\n",
    "import numpy as np\n",
    "\n",
    "def process_data(data_folder, minimum_trials):\n",
    "    # List files in the data folder\n",
    "    files = os.listdir(data_folder)\n",
    "    \n",
    "    # Load choices and rewards data\n",
    "    choices = np.loadtxt(data_folder + 'choices.csv', delimiter=',')\n",
    "    rewards = np.loadtxt(data_folder + 'rewards.csv', delimiter=',')\n",
    "    \n",
    "    # Remove the nan values to make a staggered array\n",
    "    cleaned_choices = []\n",
    "    cleaned_rewards = []\n",
    "    for i in range(len(choices)):\n",
    "        c = choices[i][~np.isnan(choices[i])]\n",
    "        r = rewards[i][~np.isnan(rewards[i])]\n",
    "        if len(c) < minimum_trials:\n",
    "            continue\n",
    "        cleaned_choices.append(c)\n",
    "        cleaned_rewards.append(r)\n",
    "    \n",
    "    cleaned_choices = np.array(cleaned_choices, dtype=object)\n",
    "    cleaned_rewards = np.array(cleaned_rewards, dtype=object)\n",
    "    \n",
    "    return cleaned_choices, cleaned_rewards\n",
    "\n",
    "# Example usage\n",
    "data_folder = '../data/dmData_14-09-2023_control/'\n",
    "minimal_trials = 180\n",
    "cleaned_choices, cleaned_rewards = process_data(data_folder, minimal_trials)"
   ]
  },
  {
   "cell_type": "code",
   "execution_count": null,
   "metadata": {},
   "outputs": [],
   "source": []
  },
  {
   "cell_type": "code",
   "execution_count": null,
   "metadata": {},
   "outputs": [],
   "source": []
  }
 ],
 "metadata": {
  "kernelspec": {
   "display_name": ".venv",
   "language": "python",
   "name": "python3"
  },
  "language_info": {
   "codemirror_mode": {
    "name": "ipython",
    "version": 3
   },
   "file_extension": ".py",
   "mimetype": "text/x-python",
   "name": "python",
   "nbconvert_exporter": "python",
   "pygments_lexer": "ipython3",
   "version": "3.10.14"
  }
 },
 "nbformat": 4,
 "nbformat_minor": 2
}
