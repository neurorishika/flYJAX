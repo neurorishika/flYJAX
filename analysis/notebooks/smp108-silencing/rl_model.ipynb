{
 "cells": [
  {
   "cell_type": "markdown",
   "metadata": {},
   "source": [
    "# SM108 silencing RL Modelling"
   ]
  },
  {
   "cell_type": "code",
   "execution_count": 12,
   "metadata": {},
   "outputs": [],
   "source": [
    "import os\n",
    "import pandas as pd\n",
    "import numpy as np\n",
    "import matplotlib.pyplot as plt\n",
    "import pickle\n",
    "import scipy.stats as stats\n",
    "\n",
    "from flyjax.experiment.get import fetch_behavioral_data, get_experiments\n",
    "from flyjax.utils.plotting import plot_single_experiment_data\n",
    "\n",
    "import seaborn as sns\n",
    "sns.set(style='ticks')\n",
    "sns.set_palette('colorblind')\n",
    "plt.rcParams['font.sans-serif'] = 'Arial'\n",
    "\n",
    "def significance_stars(p):\n",
    "    if p < 0.001:\n",
    "        return '***'\n",
    "    elif p < 0.01:\n",
    "        return '**'\n",
    "    elif p < 0.05:\n",
    "        return '*'\n",
    "    else:\n",
    "        return ''\n",
    "\n",
    "expt_data_folder = '../../../data/SMP108-kir/dmVS_12-08-2024_expt/'\n",
    "ctrl_data_folder = '../../../data/SMP108-kir/dmVS_12-08-2024_ctrl/'\n",
    "processed_folder = 'processed_data' # folder containing the processed data\n",
    "minimal_trials = 180 # minimal number of trials to consider a fly to be included in the analysis\n",
    "\n",
    "expt_choices, expt_rewards, expt_metadata = fetch_behavioral_data(expt_data_folder, minimal_trials, remove_control=True)\n",
    "n_experiments = len(expt_metadata)\n",
    "\n",
    "ctrl_choices, ctrl_rewards, ctrl_metadata = fetch_behavioral_data(ctrl_data_folder, minimal_trials, remove_control=False)\n",
    "n_controls = len(ctrl_metadata)\n",
    "\n",
    "# set the seed for reproducibility\n",
    "np.random.seed(0)"
   ]
  },
  {
   "cell_type": "code",
   "execution_count": 13,
   "metadata": {},
   "outputs": [
    {
     "name": "stdout",
     "output_type": "stream",
     "text": [
      "Number of experiments: 247\n",
      "Number of controls: 299\n"
     ]
    }
   ],
   "source": [
    "print(f'Number of experiments: {n_experiments}')\n",
    "print(f'Number of controls: {n_controls}')"
   ]
  },
  {
   "cell_type": "markdown",
   "metadata": {},
   "source": [
    "## Fitting the best joint model (DFQ with Dynamic Exploration) to the experimental and control data"
   ]
  },
  {
   "cell_type": "code",
   "execution_count": 14,
   "metadata": {},
   "outputs": [],
   "source": [
    "# fitting a joint model to the data\n",
    "from flyjax.fitting.cv import parallel_k_fold_cross_validation_train_joint\n",
    "from flyjax.agent.rl.zoo import dfq_agent_with_dynamic_exploration\n",
    "from flyjax.fitting.samplers import base_randn_sampler\n",
    "from functools import partial"
   ]
  },
  {
   "cell_type": "code",
   "execution_count": 15,
   "metadata": {},
   "outputs": [],
   "source": [
    "experiments = [(expt_choices[i], expt_rewards[i]) for i in range(n_experiments)]\n",
    "controls = [(ctrl_choices[i], ctrl_rewards[i]) for i in range(n_controls)]"
   ]
  },
  {
   "cell_type": "code",
   "execution_count": null,
   "metadata": {},
   "outputs": [
    {
     "name": "stdout",
     "output_type": "stream",
     "text": [
      "\n",
      "--- Joint Restart 1/10 ---\n",
      "\n",
      "--- Joint Restart 1/10 ---\n",
      "\n",
      "--- Joint Restart 1/10 ---\n",
      "\n",
      "--- Joint Restart 1/10 ---\n",
      "\n",
      "--- Joint Restart 1/10 ---\n"
     ]
    },
    {
     "name": "stderr",
     "output_type": "stream",
     "text": [
      "2025-02-20 22:39:49.902785: E external/xla/xla/service/slow_operation_alarm.cc:73] \n",
      "********************************\n",
      "[Compiling module jit_step_fn] Very slow compile? If you want to file a bug, run with envvar XLA_FLAGS=--xla_dump_to=/tmp/foo and attach the results.\n",
      "********************************\n",
      "2025-02-20 22:39:53.364230: E external/xla/xla/service/slow_operation_alarm.cc:73] \n",
      "********************************\n",
      "[Compiling module jit_step_fn] Very slow compile? If you want to file a bug, run with envvar XLA_FLAGS=--xla_dump_to=/tmp/foo and attach the results.\n",
      "********************************\n",
      "2025-02-20 22:39:53.421999: E external/xla/xla/service/slow_operation_alarm.cc:73] \n",
      "********************************\n",
      "[Compiling module jit_step_fn] Very slow compile? If you want to file a bug, run with envvar XLA_FLAGS=--xla_dump_to=/tmp/foo and attach the results.\n",
      "********************************\n",
      "2025-02-20 22:39:53.520094: E external/xla/xla/service/slow_operation_alarm.cc:73] \n",
      "********************************\n",
      "[Compiling module jit_step_fn] Very slow compile? If you want to file a bug, run with envvar XLA_FLAGS=--xla_dump_to=/tmp/foo and attach the results.\n",
      "********************************\n",
      "2025-02-20 22:39:53.711438: E external/xla/xla/service/slow_operation_alarm.cc:73] \n",
      "********************************\n",
      "[Compiling module jit_step_fn] Very slow compile? If you want to file a bug, run with envvar XLA_FLAGS=--xla_dump_to=/tmp/foo and attach the results.\n",
      "********************************\n",
      "2025-02-20 22:41:53.015670: E external/xla/xla/service/slow_operation_alarm.cc:140] The operation took 4m3.117759s\n",
      "\n",
      "********************************\n",
      "[Compiling module jit_step_fn] Very slow compile? If you want to file a bug, run with envvar XLA_FLAGS=--xla_dump_to=/tmp/foo and attach the results.\n",
      "********************************\n",
      "2025-02-20 22:41:56.338892: E external/xla/xla/service/slow_operation_alarm.cc:140] The operation took 4m2.921773s\n",
      "\n",
      "********************************\n",
      "[Compiling module jit_step_fn] Very slow compile? If you want to file a bug, run with envvar XLA_FLAGS=--xla_dump_to=/tmp/foo and attach the results.\n",
      "********************************\n",
      "2025-02-20 22:41:56.453440: E external/xla/xla/service/slow_operation_alarm.cc:140] The operation took 4m3.094105s\n",
      "\n",
      "********************************\n",
      "[Compiling module jit_step_fn] Very slow compile? If you want to file a bug, run with envvar XLA_FLAGS=--xla_dump_to=/tmp/foo and attach the results.\n",
      "********************************\n",
      "2025-02-20 22:41:57.958362: E external/xla/xla/service/slow_operation_alarm.cc:140] The operation took 4m4.443156s\n",
      "\n",
      "********************************\n",
      "[Compiling module jit_step_fn] Very slow compile? If you want to file a bug, run with envvar XLA_FLAGS=--xla_dump_to=/tmp/foo and attach the results.\n",
      "********************************\n",
      "2025-02-20 22:41:58.336214: E external/xla/xla/service/slow_operation_alarm.cc:140] The operation took 4m4.629676s\n",
      "\n",
      "********************************\n",
      "[Compiling module jit_step_fn] Very slow compile? If you want to file a bug, run with envvar XLA_FLAGS=--xla_dump_to=/tmp/foo and attach the results.\n",
      "********************************\n"
     ]
    },
    {
     "name": "stdout",
     "output_type": "stream",
     "text": [
      "Restart 1 final Joint NLL: 168297.0625\n",
      "\n",
      "--- Joint Restart 2/10 ---\n",
      "Restart 1 final Joint NLL: 169296.9062\n",
      "\n",
      "--- Joint Restart 2/10 ---\n",
      "Restart 1 final Joint NLL: 166600.1875\n",
      "\n",
      "--- Joint Restart 2/10 ---\n",
      "Restart 1 final Joint NLL: 168321.2500\n",
      "\n",
      "--- Joint Restart 2/10 ---\n",
      "Restart 1 final Joint NLL: 169742.5938\n",
      "\n",
      "--- Joint Restart 2/10 ---\n"
     ]
    }
   ],
   "source": [
    "init_theta_sampler = partial(base_randn_sampler, mean=0.0, std=1.0, n_params=7)\n",
    "init_delta_sampler = partial(base_randn_sampler, mean=0.0, std=0.1, n_params=7)\n",
    "\n",
    "total_pred_ll, per_experiment_ll, params = parallel_k_fold_cross_validation_train_joint(\n",
    "    experiments_control=controls,\n",
    "    experiments_treatment=experiments,\n",
    "    k=5,\n",
    "    n_params=7,\n",
    "    init_theta_sampler=init_theta_sampler,\n",
    "    init_delta_sampler=init_delta_sampler,\n",
    "    agent=dfq_agent_with_dynamic_exploration,\n",
    "    learning_rate=5e-2,\n",
    "    num_steps=10000,\n",
    "    n_restarts=10,\n",
    "    min_num_converged=3,\n",
    "    early_stopping={\"min_delta\": 1e-4}\n",
    ")\n",
    "\n",
    "# make a nested dictionary with the results\n",
    "results = {\n",
    "    'total_log_likelihood': total_pred_ll,\n",
    "    'subject_log_likelihood': per_experiment_ll,\n",
    "    'fold_params': params\n",
    "}\n",
    "# save the results as a pickle file\n",
    "results_file = os.path.join(processed_folder, 'dfq_dynamic_exploration_results.pkl')\n",
    "with open(results_file, 'wb') as f:\n",
    "    pickle.dump(results, f)"
   ]
  },
  {
   "cell_type": "code",
   "execution_count": null,
   "metadata": {},
   "outputs": [],
   "source": [
    "# load the results\n",
    "results_file = os.path.join(processed_folder, 'dfq_dynamic_exploration_results.pkl')\n",
    "with open(results_file, 'rb') as f:\n",
    "    results = pickle.load(f)\n",
    "total_pred_ll = results['total_log_likelihood']\n",
    "per_experiment_ll = results['subject_log_likelihood']\n",
    "params = results['fold_params']\n",
    "params = np.array([params[i] for i in range(5)])\n",
    "params = np.cumsum(params, axis=1)\n",
    "# apply sigmoid on the first two parameters\n",
    "params[:, :, :2] = 1 / (1 + np.exp(-params[:, :, :2]))\n",
    "param_names = ['alpha_learn', 'alpha_forget', 'kappa_reward', 'kappa_omission', 'alpha_reward', 'epsilon_weight', 'epsilon_bias']\n"
   ]
  },
  {
   "cell_type": "code",
   "execution_count": null,
   "metadata": {},
   "outputs": [
    {
     "data": {
      "text/plain": [
       "array([[[ 0.29398987,  0.01837164,  5.967759  ,  5.38436   ,\n",
       "         -1.911994  , -8.420963  ,  0.28073695],\n",
       "        [ 0.24728881,  0.01316945,  6.561615  ,  5.9029284 ,\n",
       "         -1.7616242 , -9.291156  ,  0.76028395]],\n",
       "\n",
       "       [[ 0.02942135,  0.321055  ,  6.0879374 ,  1.9711875 ,\n",
       "         -0.3252523 , -4.8934274 , -1.8967832 ],\n",
       "        [ 0.02141553,  0.30173406,  6.986965  ,  2.4927306 ,\n",
       "         -0.5558166 , -5.214721  , -1.2875867 ]],\n",
       "\n",
       "       [[ 0.02843244,  0.32778624,  6.2674117 ,  1.9301946 ,\n",
       "         -0.575975  , -5.5270305 , -1.6425154 ],\n",
       "        [ 0.02102341,  0.2925608 ,  6.832855  ,  2.6896453 ,\n",
       "         -0.2822144 , -5.722387  , -1.2851657 ]],\n",
       "\n",
       "       [[ 0.2882082 ,  0.01988668,  5.529388  ,  4.936192  ,\n",
       "         -1.6968727 , -8.220017  ,  0.20420083],\n",
       "        [ 0.22866668,  0.012888  ,  6.230732  ,  5.5451026 ,\n",
       "         -1.679556  , -8.395982  ,  0.41526476]],\n",
       "\n",
       "       [[ 0.27190533,  0.02152501,  5.0340796 ,  4.4127965 ,\n",
       "         -1.8953438 , -9.188524  ,  0.32279894],\n",
       "        [ 0.24301693,  0.01330668,  6.398781  ,  5.791973  ,\n",
       "         -1.8157121 , -9.124931  ,  0.6131446 ]]], dtype=float32)"
      ]
     },
     "execution_count": 10,
     "metadata": {},
     "output_type": "execute_result"
    }
   ],
   "source": [
    "params"
   ]
  },
  {
   "cell_type": "code",
   "execution_count": null,
   "metadata": {},
   "outputs": [
    {
     "name": "stdout",
     "output_type": "stream",
     "text": [
      "alpha_learn: p = 0.0625\n",
      "alpha_forget: p = 0.0625\n",
      "kappa_reward: p = 0.0625\n",
      "kappa_omission: p = 0.0625\n",
      "alpha_reward: p = 0.4375\n",
      "epsilon_weight: p = 0.125\n",
      "epsilon_bias: p = 0.0625\n"
     ]
    },
    {
     "data": {
      "image/png": "[encoded data removed]",
      "text/plain": [
       "<Figure size 1200x300 with 7 Axes>"
      ]
     },
     "metadata": {},
     "output_type": "display_data"
    }
   ],
   "source": [
    "# plot the parameters\n",
    "fig, axes = plt.subplots(1, 7, figsize=(12, 3), sharex=True)\n",
    "for i in range(7):\n",
    "    # quantify the difference between the control and experiment groups using a non-parametric test\n",
    "    _, p = stats.wilcoxon(params[:, 0, i], params[:, 1, i])\n",
    "    print(f'{param_names[i]}: p = {p}')\n",
    "    p = significance_stars(p)\n",
    "    axes[i].plot(params[:, :, i].T, color='black', lw=0.5, marker='o', markersize=5)\n",
    "    axes[i].plot([0, 1], params[:, :, i].mean(axis=0), color='red', lw=2, marker='o', markersize=10)\n",
    "    axes[i].set_xlabel('Group')\n",
    "    axes[i].set_ylabel(f'$\\\\theta_{i+1}$')\n",
    "    axes[i].set_xticks([0,1], ['Control', 'Experiment'], rotation=90)\n",
    "    axes[i].set_xlim(-0.5, 1.5)\n",
    "    axes[i].set_title(f'{param_names[i]}')\n",
    "    \n",
    "plt.tight_layout()\n",
    "plt.show()"
   ]
  }
 ],
 "metadata": {
  "kernelspec": {
   "display_name": ".venv",
   "language": "python",
   "name": "python3"
  },
  "language_info": {
   "codemirror_mode": {
    "name": "ipython",
    "version": 3
   },
   "file_extension": ".py",
   "mimetype": "text/x-python",
   "name": "python",
   "nbconvert_exporter": "python",
   "pygments_lexer": "ipython3",
   "version": "3.10.14"
  }
 },
 "nbformat": 4,
 "nbformat_minor": 2
}
