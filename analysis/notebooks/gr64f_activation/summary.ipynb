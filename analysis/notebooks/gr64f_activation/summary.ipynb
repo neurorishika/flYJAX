{
 "cells": [
  {
   "cell_type": "markdown",
   "metadata": {},
   "source": [
    "# Gr64f-based Reinforcement Summary"
   ]
  },
  {
   "cell_type": "code",
   "execution_count": null,
   "metadata": {},
   "outputs": [],
   "source": [
    "import os\n",
    "import pandas as pd\n",
    "import numpy as np\n",
    "from flyjax.experiment.get import fetch_behavioral_data, get_experiments\n",
    "from flyjax.utils.plotting import plot_single_experiment_data\n",
    "\n",
    "data_folder = '../../../data/gr64f_dmVS_14-09-2023/' # folder containing the data\n",
    "minimal_trials = 180 # minimal number of trials to consider a fly to be included in the analysis\n",
    "\n",
    "cleaned_choices, cleaned_rewards, cleaned_metadata = fetch_behavioral_data(data_folder, minimal_trials)"
   ]
  },
  {
   "cell_type": "code",
   "execution_count": 6,
   "metadata": {},
   "outputs": [],
   "source": [
    "# get only control experiments\n",
    "control_choices = cleaned_choices[cleaned_metadata['Fly Experiment'].str.contains('control')]\n",
    "control_rewards = cleaned_rewards[cleaned_metadata['Fly Experiment'].str.contains('control')]\n",
    "control_metadata = cleaned_metadata[cleaned_metadata['Fly Experiment'].str.contains('control')]"
   ]
  }
 ],
 "metadata": {
  "kernelspec": {
   "display_name": ".venv",
   "language": "python",
   "name": "python3"
  },
  "language_info": {
   "codemirror_mode": {
    "name": "ipython",
    "version": 3
   },
   "file_extension": ".py",
   "mimetype": "text/x-python",
   "name": "python",
   "nbconvert_exporter": "python",
   "pygments_lexer": "ipython3",
   "version": "3.10.14"
  }
 },
 "nbformat": 4,
 "nbformat_minor": 2
}
