{
 "cells": [
  {
   "cell_type": "markdown",
   "metadata": {},
   "source": [
    "# Gr64f Reinforcement based RL Modelling"
   ]
  },
  {
   "cell_type": "code",
   "execution_count": 8,
   "metadata": {},
   "outputs": [],
   "source": [
    "import os\n",
    "import pandas as pd\n",
    "import numpy as np\n",
    "import matplotlib.pyplot as plt\n",
    "import pickle\n",
    "import scipy.stats as stats\n",
    "\n",
    "from flyjax.experiment.get import fetch_behavioral_data, get_experiments\n",
    "from flyjax.utils.plotting import plot_single_experiment_data\n",
    "\n",
    "\n",
    "import seaborn as sns\n",
    "sns.set(style='ticks')\n",
    "sns.set_palette('colorblind')\n",
    "plt.rcParams['font.sans-serif'] = 'Arial'\n",
    "\n",
    "def significance_stars(p):\n",
    "    if p < 0.001:\n",
    "        return '***'\n",
    "    elif p < 0.01:\n",
    "        return '**'\n",
    "    elif p < 0.05:\n",
    "        return '*'\n",
    "    else:\n",
    "        return ''\n",
    "\n",
    "data_folder = '../../../data/gr64f_dmVS_14-09-2023/' # folder containing the data\n",
    "processed_folder = 'processed_data' # folder containing the processed data\n",
    "minimal_trials = 180 # minimal number of trials to consider a fly to be included in the analysis\n",
    "\n",
    "choices, rewards, metadata = fetch_behavioral_data(data_folder, minimal_trials, remove_control=True)\n",
    "\n",
    "n_experiments = len(metadata)\n",
    "\n",
    "# set the seed for reproducibility\n",
    "np.random.seed(0)"
   ]
  },
  {
   "cell_type": "markdown",
   "metadata": {},
   "source": [
    "## Testing a literature inspired Model for Reinforcement Learning\n",
    "Based on Differential Forgetting Q-Learning (DFQ) by Ito and Doya (2009)."
   ]
  },
  {
   "cell_type": "code",
   "execution_count": 9,
   "metadata": {},
   "outputs": [],
   "source": [
    "from flyjax.fitting.cv import parallel_k_fold_cross_validation_train\n",
    "from flyjax.fitting.samplers import base_randn_sampler\n",
    "from flyjax.agent.rl.zoo import differential_forgetting_q_agent, differential_q_agent, forgetting_q_agent, q_agent\n",
    "from flyjax.agent.base import random_policy\n",
    "from functools import partial"
   ]
  },
  {
   "cell_type": "code",
   "execution_count": 10,
   "metadata": {},
   "outputs": [],
   "source": [
    "experiments = [(choices[i], rewards[i]) for i in range(n_experiments)]"
   ]
  },
  {
   "cell_type": "markdown",
   "metadata": {},
   "source": [
    "### Fitting the DFQ Model to the Gr64f Data"
   ]
  },
  {
   "cell_type": "code",
   "execution_count": null,
   "metadata": {},
   "outputs": [],
   "source": [
    "init_param_sampler = partial(base_randn_sampler, n_params=4)\n",
    "\n",
    "total_pred_ll, per_experiment_ll, params = parallel_k_fold_cross_validation_train(\n",
    "    experiments=experiments,\n",
    "    k=5,\n",
    "    init_param_sampler=init_param_sampler,\n",
    "    agent=differential_forgetting_q_agent,\n",
    "    learning_rate=5e-2,\n",
    "    num_steps=10000,\n",
    "    n_restarts=10,\n",
    "    min_num_converged=3,\n",
    "    early_stopping={\"min_delta\": 1e-4}\n",
    ")\n",
    "\n",
    "# make a nested dictionary with the results\n",
    "results = {\n",
    "    'total_log_likelihood': total_pred_ll,\n",
    "    'subject_log_likelihood': per_experiment_ll,\n",
    "    'fold_params': params\n",
    "}\n",
    "# save the results as a pickle file\n",
    "results_file = os.path.join(processed_folder, 'dfq_results.pkl')\n",
    "with open(results_file, 'wb') as f:\n",
    "    pickle.dump(results, f)"
   ]
  },
  {
   "cell_type": "markdown",
   "metadata": {},
   "source": [
    "## Ablation Study\n",
    "We will test the DFQ model on the Gr64f data and compare it:\n",
    "1. Differential Q-Learning (DQ) model : by ablation of the forgetting term\n",
    "2. Forgetting Q-Learning (FQ) model : by ablation of the differential reward term\n",
    "3. Q-Learning (Q) model : by ablation of both the forgetting and differential reward terms"
   ]
  },
  {
   "cell_type": "markdown",
   "metadata": {},
   "source": [
    "### Fit the DQ Model to the Gr64f Data"
   ]
  },
  {
   "cell_type": "code",
   "execution_count": null,
   "metadata": {},
   "outputs": [],
   "source": [
    "init_param_sampler = partial(base_randn_sampler, n_params=3)\n",
    "\n",
    "total_pred_ll, per_experiment_ll, params = parallel_k_fold_cross_validation_train(\n",
    "    experiments=experiments,\n",
    "    k=5,\n",
    "    init_param_sampler=init_param_sampler,\n",
    "    agent=differential_q_agent,\n",
    "    learning_rate=5e-2,\n",
    "    num_steps=10000,\n",
    "    n_restarts=10,\n",
    "    min_num_converged=3,\n",
    "    early_stopping={\"min_delta\": 1e-4}\n",
    ")\n",
    "\n",
    "# make a nested dictionary with the results\n",
    "results = {\n",
    "    'total_log_likelihood': total_pred_ll,\n",
    "    'subject_log_likelihood': per_experiment_ll,\n",
    "    'fold_params': params\n",
    "}\n",
    "# save the results as a pickle file\n",
    "results_file = os.path.join(processed_folder, 'dq_results.pkl')\n",
    "with open(results_file, 'wb') as f:\n",
    "    pickle.dump(results, f)"
   ]
  },
  {
   "cell_type": "markdown",
   "metadata": {},
   "source": [
    "### Fit the FQ Model to the Gr64f Data"
   ]
  },
  {
   "cell_type": "code",
   "execution_count": null,
   "metadata": {},
   "outputs": [],
   "source": [
    "init_param_sampler = partial(base_randn_sampler, n_params=3)\n",
    "\n",
    "total_pred_ll, per_experiment_ll, params = parallel_k_fold_cross_validation_train(\n",
    "    experiments=experiments,\n",
    "    k=5,\n",
    "    init_param_sampler=init_param_sampler,\n",
    "    agent=forgetting_q_agent,\n",
    "    learning_rate=5e-2,\n",
    "    num_steps=10000,\n",
    "    n_restarts=10,\n",
    "    min_num_converged=3,\n",
    "    early_stopping={\"min_delta\": 1e-4}\n",
    ")\n",
    "\n",
    "# make a nested dictionary with the results\n",
    "results = {\n",
    "    'total_log_likelihood': total_pred_ll,\n",
    "    'subject_log_likelihood': per_experiment_ll,\n",
    "    'fold_params': params\n",
    "}\n",
    "# save the results as a pickle file\n",
    "results_file = os.path.join(processed_folder, 'fq_results.pkl')\n",
    "with open(results_file, 'wb') as f:\n",
    "    pickle.dump(results, f)"
   ]
  },
  {
   "cell_type": "code",
   "execution_count": null,
   "metadata": {},
   "outputs": [],
   "source": [
    "init_param_sampler = partial(base_randn_sampler, n_params=2)\n",
    "\n",
    "total_pred_ll, per_experiment_ll, params = parallel_k_fold_cross_validation_train(\n",
    "    experiments=experiments,\n",
    "    k=5,\n",
    "    init_param_sampler=init_param_sampler,\n",
    "    agent=q_agent,\n",
    "    learning_rate=5e-2,\n",
    "    num_steps=10000,\n",
    "    n_restarts=10,\n",
    "    min_num_converged=3,\n",
    "    early_stopping={\"min_delta\": 1e-4}\n",
    ")\n",
    "\n",
    "# make a nested dictionary with the results\n",
    "results = {\n",
    "    'total_log_likelihood': total_pred_ll,\n",
    "    'subject_log_likelihood': per_experiment_ll,\n",
    "    'fold_params': params\n",
    "}\n",
    "# save the results as a pickle file\n",
    "results_file = os.path.join(processed_folder, 'q_results.pkl')\n",
    "with open(results_file, 'wb') as f:\n",
    "    pickle.dump(results, f)"
   ]
  },
  {
   "cell_type": "markdown",
   "metadata": {},
   "source": [
    "### Evaluate the random policy model on the Gr64f Data"
   ]
  },
  {
   "cell_type": "code",
   "execution_count": null,
   "metadata": {},
   "outputs": [],
   "source": [
    "from flyjax.fitting.evaluation import negative_log_likelihood_experiment\n",
    "\n",
    "total_pred_ll = 0.0\n",
    "per_experiment_ll = {}\n",
    "for exp_idx, (choices, rewards) in enumerate(experiments):\n",
    "    # Compute predicted log likelihood: negative NLL.\n",
    "    ll = -float(\n",
    "        negative_log_likelihood_experiment(None, random_policy, choices, rewards)\n",
    "    )\n",
    "    per_experiment_ll[exp_idx] = ll\n",
    "    total_pred_ll += ll\n",
    "print(f\"predictive log-likelihood: {total_pred_ll:.2f}\")\n",
    "\n",
    "# make a nested dictionary with the results\n",
    "results = {\n",
    "    'total_log_likelihood': total_pred_ll,\n",
    "    'subject_log_likelihood': per_experiment_ll,\n",
    "    'fold_params': None\n",
    "}\n",
    "# save the results as a pickle file\n",
    "results_file = os.path.join(processed_folder, 'random_results.pkl')\n",
    "with open(results_file, 'wb') as f:\n",
    "    pickle.dump(results, f)"
   ]
  },
  {
   "cell_type": "markdown",
   "metadata": {},
   "source": [
    "## Load and compare the Gr64f data with the DFQ model + ablations"
   ]
  },
  {
   "cell_type": "code",
   "execution_count": 13,
   "metadata": {},
   "outputs": [],
   "source": [
    "# load the results\n",
    "dfq_results_file = os.path.join(processed_folder, 'dfq_results.pkl')\n",
    "dq_results_file = os.path.join(processed_folder, 'dq_results.pkl')\n",
    "fq_results_file = os.path.join(processed_folder, 'fq_results.pkl')\n",
    "q_results_file = os.path.join(processed_folder, 'q_results.pkl')\n",
    "random_results_file = os.path.join(processed_folder, 'random_results.pkl')\n",
    "\n",
    "with open(dfq_results_file, 'rb') as f:\n",
    "    dfq_results = pickle.load(f)\n",
    "with open(dq_results_file, 'rb') as f:\n",
    "    dq_results = pickle.load(f)\n",
    "with open(fq_results_file, 'rb') as f:\n",
    "    fq_results = pickle.load(f)\n",
    "with open(q_results_file, 'rb') as f:\n",
    "    q_results = pickle.load(f)\n",
    "with open(random_results_file, 'rb') as f:\n",
    "    random_results = pickle.load(f)"
   ]
  },
  {
   "cell_type": "markdown",
   "metadata": {},
   "source": [
    "These are nested models, so we can compare them using a likelihood ratio test. We will additionally compare the models using the Akaike Information Criterion (AIC) and the Bayesian Information Criterion (BIC) and also percentage of variance explained by the models."
   ]
  },
  {
   "cell_type": "code",
   "execution_count": 14,
   "metadata": {},
   "outputs": [
    {
     "name": "stdout",
     "output_type": "stream",
     "text": [
      "DFQ vs DQ: 0.00; DFQ vs FQ: 0.00; DFQ vs Q: 0.00; DFQ vs Random: 0.00\n"
     ]
    }
   ],
   "source": [
    "# since the model to evaluate is DFQ, we will first use the log likelihood ratio test to compare it to the other models\n",
    "from flyjax.fitting.model_comparison import likelihood_ratio_test, aic, bic\n",
    "\n",
    "# compute the log likelihood ratio test of DFQ every other model\n",
    "dfq_vs_dq = likelihood_ratio_test(\n",
    "            ll_full=dfq_results['total_log_likelihood'],\n",
    "            ll_restricted=dq_results['total_log_likelihood'],\n",
    "            num_params_full=4,\n",
    "            num_params_restricted=3\n",
    "            )\n",
    "dfq_vs_fq = likelihood_ratio_test(\n",
    "            ll_full=dfq_results['total_log_likelihood'],\n",
    "            ll_restricted=fq_results['total_log_likelihood'],\n",
    "            num_params_full=4,\n",
    "            num_params_restricted=3\n",
    "            )\n",
    "dfq_vs_q = likelihood_ratio_test(\n",
    "            ll_full=dfq_results['total_log_likelihood'],\n",
    "            ll_restricted=q_results['total_log_likelihood'],\n",
    "            num_params_full=4,\n",
    "            num_params_restricted=2\n",
    "            )\n",
    "dfq_vs_random = likelihood_ratio_test(\n",
    "            ll_full=dfq_results['total_log_likelihood'],\n",
    "            ll_restricted=random_results['total_log_likelihood'],\n",
    "            num_params_full=4,\n",
    "            num_params_restricted=0\n",
    "            )\n",
    "print(f\"DFQ vs DQ: {dfq_vs_dq:.2f}; DFQ vs FQ: {dfq_vs_fq:.2f}; DFQ vs Q: {dfq_vs_q:.2f}; DFQ vs Random: {dfq_vs_random:.2f}\")"
   ]
  },
  {
   "cell_type": "markdown",
   "metadata": {},
   "source": [
    "The fact that the likelihood ratio test is significant for the nested models suggests that every term in the DFQ model is important for explaining the data. Lets plot the results and compare the models."
   ]
  },
  {
   "cell_type": "code",
   "execution_count": 15,
   "metadata": {},
   "outputs": [
    {
     "name": "stdout",
     "output_type": "stream",
     "text": [
      "DFQ vs No Forgetting: p-val:1.91e-46,***\n",
      "DFQ vs No Choice Bias: p-val:6.10e-03,**\n",
      "DFQ vs No Forgetting\n",
      "or Choice Bias: p-val:5.98e-56,***\n",
      "DFQ vs No Learning: p-val:3.08e-53,***\n"
     ]
    },
    {
     "data": {
      "image/png": "[encoded data removed]",
      "text/plain": [
       "<Figure size 200x400 with 1 Axes>"
      ]
     },
     "metadata": {},
     "output_type": "display_data"
    }
   ],
   "source": [
    "# create a subject-level dataframe\n",
    "dfq_subjects = pd.DataFrame(dfq_results['subject_log_likelihood'].items(), columns=['subject', 'log_likelihood'])\n",
    "dfq_subjects['model'] = 'DFQ'\n",
    "dq_subjects = pd.DataFrame(dq_results['subject_log_likelihood'].items(), columns=['subject', 'log_likelihood'])\n",
    "dq_subjects['model'] = 'DQ'\n",
    "fq_subjects = pd.DataFrame(fq_results['subject_log_likelihood'].items(), columns=['subject', 'log_likelihood'])\n",
    "fq_subjects['model'] = 'FQ'\n",
    "q_subjects = pd.DataFrame(q_results['subject_log_likelihood'].items(), columns=['subject', 'log_likelihood'])\n",
    "q_subjects['model'] = 'Q'\n",
    "random_subjects = pd.DataFrame(random_results['subject_log_likelihood'].items(), columns=['subject', 'log_likelihood'])\n",
    "random_subjects['model'] = 'Random'\n",
    "# concatenate the dataframes\n",
    "subjects = pd.concat([dfq_subjects, dq_subjects, fq_subjects, q_subjects, random_subjects])\n",
    "\n",
    "# sort by model and subject\n",
    "subjects = subjects.sort_values(by=['model', 'subject']).reset_index(drop=True)\n",
    "\n",
    "# for each subject, get the number of trials\n",
    "subjects['n_trials'] = subjects['subject'].apply(lambda x: len(experiments[x][0]))\n",
    "# get normalized likelihoods exp(log likelihood/n_trials)\n",
    "subjects['normalized_likelihood'] = np.exp(subjects['log_likelihood']/subjects['n_trials'])\n",
    "\n",
    "# from each subject, divide the log likelihood of the DFQ model\n",
    "subjects['normalized_likelihood_change'] = subjects.groupby('subject')['normalized_likelihood'].transform(lambda x: x/x.iloc[0])\n",
    "# convert the log likelihoods to a percentage scale\n",
    "subjects['normalized_likelihood_change'] = (subjects['normalized_likelihood_change']-1)*100\n",
    "\n",
    "\n",
    "# plot the log likelihoods of the different models with paired scatter plots\n",
    "plt.figure(figsize=(2, 4))\n",
    "# drop DFQ vs DFQ\n",
    "subjects_change = subjects[subjects['model'] != 'DFQ']\n",
    "# change the names of the models\n",
    "subjects_change.loc[:, 'model'] = subjects_change['model'].replace({\n",
    "    'DQ': 'No Forgetting',\n",
    "    'FQ': 'No Choice Bias',\n",
    "    'Q': 'No Forgetting\\nor Choice Bias',\n",
    "    'Random': 'No Learning'\n",
    "})\n",
    "sns.stripplot(x='model', y='normalized_likelihood_change', data=subjects_change, jitter=True, alpha=0.5, palette='colorblind', hue='model', size=2, zorder=0)\n",
    "sns.pointplot(x='model', y='normalized_likelihood_change', data=subjects_change, markers='_', errorbar=('ci', 95), capsize=0.2, color='black', zorder=1, linewidth=1.5, linestyles='none')\n",
    "plt.ylabel('Difference in Normalized\\nLikelihood (% points)')\n",
    "plt.axhline(0, color='black', linestyle='--')\n",
    "sns.despine()\n",
    "plt.yscale('symlog')\n",
    "plt.ylim(-100, 10)\n",
    "plt.yticks([-100, -10, 0, 10], ['-100', '-10', '0', '10'])\n",
    "plt.xticks(rotation=90)\n",
    "plt.xlabel('')\n",
    "\n",
    "# add the significance stars for the paired Wilcoxon signed-rank test between DFQ and the other models\n",
    "for model in subjects_change['model'].unique():\n",
    "    if model == 'DFQ':\n",
    "        continue\n",
    "    # perform the Wilcoxon signed-rank test\n",
    "    dfq_model = subjects[subjects['model'] == 'DFQ']['normalized_likelihood']\n",
    "    other_model = subjects_change[subjects_change['model'] == model]['normalized_likelihood']\n",
    "    _, p = stats.wilcoxon(dfq_model, other_model)\n",
    "    # adjust for multiple comparisons (Bonferroni correction)\n",
    "    p *= len(subjects_change['model'].unique())\n",
    "    # add the significance stars\n",
    "    plt.text(subjects_change['model'].unique().tolist().index(model), 5, significance_stars(p), ha='center', va='center')\n",
    "    print(f\"DFQ vs {model}: p-val:{p:.2e},{significance_stars(p)}\")\n",
    "\n",
    "plt.show()\n"
   ]
  },
  {
   "cell_type": "markdown",
   "metadata": {},
   "source": [
    "## Additive Model Comparison to see if other features are important\n",
    "\n",
    "We will also see if other features are important by comparing the DFQ model to more advanced models by adding more features to the model such as:\n",
    "1) Learnt initial Q values\n",
    "2) Epsilon softmax mixed policy\n",
    "3) Different learning rates for positive and negative reward prediction errors"
   ]
  },
  {
   "cell_type": "code",
   "execution_count": 16,
   "metadata": {},
   "outputs": [],
   "source": [
    "from flyjax.agent.rl.zoo import dfq_agent_with_dual_lr, dfq_agent_with_epsilon_softmax, dfq_agent_with_init, dfq_agent_with_dynamic_exploration, advanced_rl_agent"
   ]
  },
  {
   "cell_type": "code",
   "execution_count": 17,
   "metadata": {},
   "outputs": [
    {
     "name": "stdout",
     "output_type": "stream",
     "text": [
      "\n",
      "--- Restart 1/10 ---\n",
      "\n",
      "--- Restart 1/10 ---\n",
      "\n",
      "--- Restart 1/10 ---\n",
      "\n",
      "--- Restart 1/10 ---\n",
      "\n",
      "--- Restart 1/10 ---\n"
     ]
    },
    {
     "ename": "KeyboardInterrupt",
     "evalue": "",
     "output_type": "error",
     "traceback": [
      "\u001b[0;31m---------------------------------------------------------------------------\u001b[0m",
      "\u001b[0;31mKeyboardInterrupt\u001b[0m                         Traceback (most recent call last)",
      "Cell \u001b[0;32mIn[17], line 3\u001b[0m\n\u001b[1;32m      1\u001b[0m init_param_sampler \u001b[38;5;241m=\u001b[39m partial(base_randn_sampler, n_params\u001b[38;5;241m=\u001b[39m\u001b[38;5;241m6\u001b[39m)\n\u001b[0;32m----> 3\u001b[0m total_pred_ll, per_experiment_ll, params \u001b[38;5;241m=\u001b[39m \u001b[43mparallel_k_fold_cross_validation_train\u001b[49m\u001b[43m(\u001b[49m\n\u001b[1;32m      4\u001b[0m \u001b[43m    \u001b[49m\u001b[43mexperiments\u001b[49m\u001b[38;5;241;43m=\u001b[39;49m\u001b[43mexperiments\u001b[49m\u001b[43m,\u001b[49m\n\u001b[1;32m      5\u001b[0m \u001b[43m    \u001b[49m\u001b[43mk\u001b[49m\u001b[38;5;241;43m=\u001b[39;49m\u001b[38;5;241;43m5\u001b[39;49m\u001b[43m,\u001b[49m\n\u001b[1;32m      6\u001b[0m \u001b[43m    \u001b[49m\u001b[43minit_param_sampler\u001b[49m\u001b[38;5;241;43m=\u001b[39;49m\u001b[43minit_param_sampler\u001b[49m\u001b[43m,\u001b[49m\n\u001b[1;32m      7\u001b[0m \u001b[43m    \u001b[49m\u001b[43magent\u001b[49m\u001b[38;5;241;43m=\u001b[39;49m\u001b[43mdfq_agent_with_init\u001b[49m\u001b[43m,\u001b[49m\n\u001b[1;32m      8\u001b[0m \u001b[43m    \u001b[49m\u001b[43mlearning_rate\u001b[49m\u001b[38;5;241;43m=\u001b[39;49m\u001b[38;5;241;43m5e-2\u001b[39;49m\u001b[43m,\u001b[49m\n\u001b[1;32m      9\u001b[0m \u001b[43m    \u001b[49m\u001b[43mnum_steps\u001b[49m\u001b[38;5;241;43m=\u001b[39;49m\u001b[38;5;241;43m10000\u001b[39;49m\u001b[43m,\u001b[49m\n\u001b[1;32m     10\u001b[0m \u001b[43m    \u001b[49m\u001b[43mn_restarts\u001b[49m\u001b[38;5;241;43m=\u001b[39;49m\u001b[38;5;241;43m10\u001b[39;49m\u001b[43m,\u001b[49m\n\u001b[1;32m     11\u001b[0m \u001b[43m    \u001b[49m\u001b[43mmin_num_converged\u001b[49m\u001b[38;5;241;43m=\u001b[39;49m\u001b[38;5;241;43m3\u001b[39;49m\u001b[43m,\u001b[49m\n\u001b[1;32m     12\u001b[0m \u001b[43m    \u001b[49m\u001b[43mearly_stopping\u001b[49m\u001b[38;5;241;43m=\u001b[39;49m\u001b[43m{\u001b[49m\u001b[38;5;124;43m\"\u001b[39;49m\u001b[38;5;124;43mmin_delta\u001b[39;49m\u001b[38;5;124;43m\"\u001b[39;49m\u001b[43m:\u001b[49m\u001b[43m \u001b[49m\u001b[38;5;241;43m1e-4\u001b[39;49m\u001b[43m}\u001b[49m\n\u001b[1;32m     13\u001b[0m \u001b[43m)\u001b[49m\n\u001b[1;32m     15\u001b[0m \u001b[38;5;66;03m# make a nested dictionary with the results\u001b[39;00m\n\u001b[1;32m     16\u001b[0m results \u001b[38;5;241m=\u001b[39m {\n\u001b[1;32m     17\u001b[0m     \u001b[38;5;124m'\u001b[39m\u001b[38;5;124mtotal_log_likelihood\u001b[39m\u001b[38;5;124m'\u001b[39m: total_pred_ll,\n\u001b[1;32m     18\u001b[0m     \u001b[38;5;124m'\u001b[39m\u001b[38;5;124msubject_log_likelihood\u001b[39m\u001b[38;5;124m'\u001b[39m: per_experiment_ll,\n\u001b[1;32m     19\u001b[0m     \u001b[38;5;124m'\u001b[39m\u001b[38;5;124mfold_params\u001b[39m\u001b[38;5;124m'\u001b[39m: params\n\u001b[1;32m     20\u001b[0m }\n",
      "File \u001b[0;32m~/Projects/Janelia/flYJAX/flyjax/fitting/cv.py:185\u001b[0m, in \u001b[0;36mparallel_k_fold_cross_validation_train\u001b[0;34m(experiments, k, init_param_sampler, agent, learning_rate, num_steps, n_restarts, min_num_converged, early_stopping)\u001b[0m\n\u001b[1;32m    183\u001b[0m fold_params \u001b[38;5;241m=\u001b[39m {}\n\u001b[1;32m    184\u001b[0m \u001b[38;5;28;01mwith\u001b[39;00m ProcessPoolExecutor() \u001b[38;5;28;01mas\u001b[39;00m executor:\n\u001b[0;32m--> 185\u001b[0m     results \u001b[38;5;241m=\u001b[39m \u001b[38;5;28;43mlist\u001b[39;49m\u001b[43m(\u001b[49m\u001b[43mexecutor\u001b[49m\u001b[38;5;241;43m.\u001b[39;49m\u001b[43mmap\u001b[49m\u001b[43m(\u001b[49m\u001b[43mrun_cv_fold\u001b[49m\u001b[43m,\u001b[49m\u001b[43m \u001b[49m\u001b[43mcv_fold_data\u001b[49m\u001b[43m)\u001b[49m\u001b[43m)\u001b[49m\n\u001b[1;32m    186\u001b[0m \u001b[38;5;28;01mfor\u001b[39;00m fold_idx, fold_ll, fold_exp_ll, best_params \u001b[38;5;129;01min\u001b[39;00m results:\n\u001b[1;32m    187\u001b[0m     total_pred_ll \u001b[38;5;241m+\u001b[39m\u001b[38;5;241m=\u001b[39m fold_ll\n",
      "File \u001b[0;32m~/miniforge3/lib/python3.10/concurrent/futures/process.py:575\u001b[0m, in \u001b[0;36m_chain_from_iterable_of_lists\u001b[0;34m(iterable)\u001b[0m\n\u001b[1;32m    569\u001b[0m \u001b[38;5;28;01mdef\u001b[39;00m\u001b[38;5;250m \u001b[39m\u001b[38;5;21m_chain_from_iterable_of_lists\u001b[39m(iterable):\n\u001b[1;32m    570\u001b[0m \u001b[38;5;250m    \u001b[39m\u001b[38;5;124;03m\"\"\"\u001b[39;00m\n\u001b[1;32m    571\u001b[0m \u001b[38;5;124;03m    Specialized implementation of itertools.chain.from_iterable.\u001b[39;00m\n\u001b[1;32m    572\u001b[0m \u001b[38;5;124;03m    Each item in *iterable* should be a list.  This function is\u001b[39;00m\n\u001b[1;32m    573\u001b[0m \u001b[38;5;124;03m    careful not to keep references to yielded objects.\u001b[39;00m\n\u001b[1;32m    574\u001b[0m \u001b[38;5;124;03m    \"\"\"\u001b[39;00m\n\u001b[0;32m--> 575\u001b[0m     \u001b[38;5;28;01mfor\u001b[39;00m element \u001b[38;5;129;01min\u001b[39;00m iterable:\n\u001b[1;32m    576\u001b[0m         element\u001b[38;5;241m.\u001b[39mreverse()\n\u001b[1;32m    577\u001b[0m         \u001b[38;5;28;01mwhile\u001b[39;00m element:\n",
      "File \u001b[0;32m~/miniforge3/lib/python3.10/concurrent/futures/_base.py:621\u001b[0m, in \u001b[0;36mExecutor.map.<locals>.result_iterator\u001b[0;34m()\u001b[0m\n\u001b[1;32m    618\u001b[0m \u001b[38;5;28;01mwhile\u001b[39;00m fs:\n\u001b[1;32m    619\u001b[0m     \u001b[38;5;66;03m# Careful not to keep a reference to the popped future\u001b[39;00m\n\u001b[1;32m    620\u001b[0m     \u001b[38;5;28;01mif\u001b[39;00m timeout \u001b[38;5;129;01mis\u001b[39;00m \u001b[38;5;28;01mNone\u001b[39;00m:\n\u001b[0;32m--> 621\u001b[0m         \u001b[38;5;28;01myield\u001b[39;00m \u001b[43m_result_or_cancel\u001b[49m\u001b[43m(\u001b[49m\u001b[43mfs\u001b[49m\u001b[38;5;241;43m.\u001b[39;49m\u001b[43mpop\u001b[49m\u001b[43m(\u001b[49m\u001b[43m)\u001b[49m\u001b[43m)\u001b[49m\n\u001b[1;32m    622\u001b[0m     \u001b[38;5;28;01melse\u001b[39;00m:\n\u001b[1;32m    623\u001b[0m         \u001b[38;5;28;01myield\u001b[39;00m _result_or_cancel(fs\u001b[38;5;241m.\u001b[39mpop(), end_time \u001b[38;5;241m-\u001b[39m time\u001b[38;5;241m.\u001b[39mmonotonic())\n",
      "File \u001b[0;32m~/miniforge3/lib/python3.10/concurrent/futures/_base.py:319\u001b[0m, in \u001b[0;36m_result_or_cancel\u001b[0;34m(***failed resolving arguments***)\u001b[0m\n\u001b[1;32m    317\u001b[0m \u001b[38;5;28;01mtry\u001b[39;00m:\n\u001b[1;32m    318\u001b[0m     \u001b[38;5;28;01mtry\u001b[39;00m:\n\u001b[0;32m--> 319\u001b[0m         \u001b[38;5;28;01mreturn\u001b[39;00m \u001b[43mfut\u001b[49m\u001b[38;5;241;43m.\u001b[39;49m\u001b[43mresult\u001b[49m\u001b[43m(\u001b[49m\u001b[43mtimeout\u001b[49m\u001b[43m)\u001b[49m\n\u001b[1;32m    320\u001b[0m     \u001b[38;5;28;01mfinally\u001b[39;00m:\n\u001b[1;32m    321\u001b[0m         fut\u001b[38;5;241m.\u001b[39mcancel()\n",
      "File \u001b[0;32m~/miniforge3/lib/python3.10/concurrent/futures/_base.py:453\u001b[0m, in \u001b[0;36mFuture.result\u001b[0;34m(self, timeout)\u001b[0m\n\u001b[1;32m    450\u001b[0m \u001b[38;5;28;01melif\u001b[39;00m \u001b[38;5;28mself\u001b[39m\u001b[38;5;241m.\u001b[39m_state \u001b[38;5;241m==\u001b[39m FINISHED:\n\u001b[1;32m    451\u001b[0m     \u001b[38;5;28;01mreturn\u001b[39;00m \u001b[38;5;28mself\u001b[39m\u001b[38;5;241m.\u001b[39m__get_result()\n\u001b[0;32m--> 453\u001b[0m \u001b[38;5;28;43mself\u001b[39;49m\u001b[38;5;241;43m.\u001b[39;49m\u001b[43m_condition\u001b[49m\u001b[38;5;241;43m.\u001b[39;49m\u001b[43mwait\u001b[49m\u001b[43m(\u001b[49m\u001b[43mtimeout\u001b[49m\u001b[43m)\u001b[49m\n\u001b[1;32m    455\u001b[0m \u001b[38;5;28;01mif\u001b[39;00m \u001b[38;5;28mself\u001b[39m\u001b[38;5;241m.\u001b[39m_state \u001b[38;5;129;01min\u001b[39;00m [CANCELLED, CANCELLED_AND_NOTIFIED]:\n\u001b[1;32m    456\u001b[0m     \u001b[38;5;28;01mraise\u001b[39;00m CancelledError()\n",
      "File \u001b[0;32m~/miniforge3/lib/python3.10/threading.py:320\u001b[0m, in \u001b[0;36mCondition.wait\u001b[0;34m(self, timeout)\u001b[0m\n\u001b[1;32m    318\u001b[0m \u001b[38;5;28;01mtry\u001b[39;00m:    \u001b[38;5;66;03m# restore state no matter what (e.g., KeyboardInterrupt)\u001b[39;00m\n\u001b[1;32m    319\u001b[0m     \u001b[38;5;28;01mif\u001b[39;00m timeout \u001b[38;5;129;01mis\u001b[39;00m \u001b[38;5;28;01mNone\u001b[39;00m:\n\u001b[0;32m--> 320\u001b[0m         \u001b[43mwaiter\u001b[49m\u001b[38;5;241;43m.\u001b[39;49m\u001b[43macquire\u001b[49m\u001b[43m(\u001b[49m\u001b[43m)\u001b[49m\n\u001b[1;32m    321\u001b[0m         gotit \u001b[38;5;241m=\u001b[39m \u001b[38;5;28;01mTrue\u001b[39;00m\n\u001b[1;32m    322\u001b[0m     \u001b[38;5;28;01melse\u001b[39;00m:\n",
      "\u001b[0;31mKeyboardInterrupt\u001b[0m: "
     ]
    }
   ],
   "source": [
    "init_param_sampler = partial(base_randn_sampler, n_params=6)\n",
    "\n",
    "total_pred_ll, per_experiment_ll, params = parallel_k_fold_cross_validation_train(\n",
    "    experiments=experiments,\n",
    "    k=5,\n",
    "    init_param_sampler=init_param_sampler,\n",
    "    agent=dfq_agent_with_init,\n",
    "    learning_rate=5e-2,\n",
    "    num_steps=10000,\n",
    "    n_restarts=10,\n",
    "    min_num_converged=3,\n",
    "    early_stopping={\"min_delta\": 1e-4}\n",
    ")\n",
    "\n",
    "# make a nested dictionary with the results\n",
    "results = {\n",
    "    'total_log_likelihood': total_pred_ll,\n",
    "    'subject_log_likelihood': per_experiment_ll,\n",
    "    'fold_params': params\n",
    "}\n",
    "# save the results as a pickle file\n",
    "results_file = os.path.join(processed_folder, 'dfq_init_results.pkl')\n",
    "with open(results_file, 'wb') as f:\n",
    "    pickle.dump(results, f)"
   ]
  },
  {
   "cell_type": "code",
   "execution_count": null,
   "metadata": {},
   "outputs": [],
   "source": [
    "init_param_sampler = partial(base_randn_sampler, n_params=5)\n",
    "\n",
    "total_pred_ll, per_experiment_ll, params = parallel_k_fold_cross_validation_train(\n",
    "    experiments=experiments,\n",
    "    k=5,\n",
    "    init_param_sampler=init_param_sampler,\n",
    "    agent=dfq_agent_with_epsilon_softmax,\n",
    "    learning_rate=5e-2,\n",
    "    num_steps=10000,\n",
    "    n_restarts=10,\n",
    "    min_num_converged=3,\n",
    "    early_stopping={\"min_delta\": 1e-4}\n",
    ")\n",
    "\n",
    "# make a nested dictionary with the results\n",
    "results = {\n",
    "    'total_log_likelihood': total_pred_ll,\n",
    "    'subject_log_likelihood': per_experiment_ll,\n",
    "    'fold_params': params\n",
    "}\n",
    "# save the results as a pickle file\n",
    "results_file = os.path.join(processed_folder, 'dfq_epsilon_softmax_results.pkl')\n",
    "with open(results_file, 'wb') as f:\n",
    "    pickle.dump(results, f)"
   ]
  },
  {
   "cell_type": "code",
   "execution_count": null,
   "metadata": {},
   "outputs": [],
   "source": [
    "init_param_sampler = partial(base_randn_sampler, n_params=5)\n",
    "\n",
    "total_pred_ll, per_experiment_ll, params = parallel_k_fold_cross_validation_train(\n",
    "    experiments=experiments,\n",
    "    k=5,\n",
    "    init_param_sampler=init_param_sampler,\n",
    "    agent=dfq_agent_with_dual_lr,\n",
    "    learning_rate=5e-2,\n",
    "    num_steps=10000,\n",
    "    n_restarts=10,\n",
    "    min_num_converged=3,\n",
    "    early_stopping={\"min_delta\": 1e-4}\n",
    ")\n",
    "\n",
    "# make a nested dictionary with the results\n",
    "results = {\n",
    "    'total_log_likelihood': total_pred_ll,\n",
    "    'subject_log_likelihood': per_experiment_ll,\n",
    "    'fold_params': params\n",
    "}\n",
    "# save the results as a pickle file\n",
    "results_file = os.path.join(processed_folder, 'dfq_dual_lr_results.pkl')\n",
    "with open(results_file, 'wb') as f:\n",
    "    pickle.dump(results, f)"
   ]
  },
  {
   "cell_type": "code",
   "execution_count": null,
   "metadata": {},
   "outputs": [
    {
     "name": "stdout",
     "output_type": "stream",
     "text": [
      "\n",
      "--- Restart 1/10 ---\n",
      "\n",
      "--- Restart 1/10 ---\n",
      "\n",
      "--- Restart 1/10 ---\n",
      "\n",
      "--- Restart 1/10 ---\n",
      "\n",
      "--- Restart 1/10 ---\n"
     ]
    }
   ],
   "source": [
    "init_param_sampler = partial(base_randn_sampler, n_params=7)\n",
    "\n",
    "total_pred_ll, per_experiment_ll, params = parallel_k_fold_cross_validation_train(\n",
    "    experiments=experiments,\n",
    "    k=5,\n",
    "    init_param_sampler=init_param_sampler,\n",
    "    agent=dfq_agent_with_dynamic_exploration,\n",
    "    learning_rate=5e-2,\n",
    "    num_steps=10000,\n",
    "    n_restarts=10,\n",
    "    min_num_converged=3,\n",
    "    early_stopping={\"min_delta\": 1e-4}\n",
    ")\n",
    "\n",
    "# make a nested dictionary with the results\n",
    "results = {\n",
    "    'total_log_likelihood': total_pred_ll,\n",
    "    'subject_log_likelihood': per_experiment_ll,\n",
    "    'fold_params': params\n",
    "}\n",
    "# save the results as a pickle file\n",
    "results_file = os.path.join(processed_folder, 'dfq_dynamic_exploration_results.pkl')\n",
    "with open(results_file, 'wb') as f:\n",
    "    pickle.dump(results, f)"
   ]
  },
  {
   "cell_type": "code",
   "execution_count": null,
   "metadata": {},
   "outputs": [],
   "source": [
    "# load the results\n",
    "dfq_init_results_file = os.path.join(processed_folder, 'dfq_init_results.pkl')\n",
    "dfq_epsilon_softmax_results_file = os.path.join(processed_folder, 'dfq_epsilon_softmax_results.pkl')\n",
    "dfq_dual_lr_results_file = os.path.join(processed_folder, 'dfq_dual_lr_results.pkl')\n",
    "dfq_dynamic_exploration_results_file = os.path.join(processed_folder, 'dfq_dynamic_exploration_results.pkl')\n",
    "\n",
    "with open(dfq_init_results_file, 'rb') as f:\n",
    "    dfq_init_results = pickle.load(f)\n",
    "with open(dfq_epsilon_softmax_results_file, 'rb') as f:\n",
    "    dfq_epsilon_softmax_results = pickle.load(f)\n",
    "with open(dfq_dual_lr_results_file, 'rb') as f:\n",
    "    dfq_dual_lr_results = pickle.load(f)\n",
    "with open(dfq_dynamic_exploration_results_file, 'rb') as f:\n",
    "    dfq_dynamic_exploration_results = pickle.load(f)"
   ]
  },
  {
   "cell_type": "markdown",
   "metadata": {},
   "source": [
    "These are still nested models, so we can compare them using a likelihood ratio test comparing the DFQ model to the more advanced models. We will additionally compare the models using the Akaike Information Criterion (AIC) and the Bayesian Information Criterion (BIC)."
   ]
  },
  {
   "cell_type": "code",
   "execution_count": null,
   "metadata": {},
   "outputs": [],
   "source": [
    "# perform the log likelihood ratio test between the different models\n",
    "from flyjax.fitting.model_comparison import likelihood_ratio_test, aic, bic\n",
    "\n",
    "dfq_vs_init = likelihood_ratio_test(\n",
    "            ll_full=dfq_init_results['total_log_likelihood'],\n",
    "            ll_restricted=dfq_results['total_log_likelihood'],\n",
    "            num_params_full=6,\n",
    "            num_params_restricted=4\n",
    "            )\n",
    "dfq_vs_epsilon_softmax = likelihood_ratio_test(\n",
    "            ll_full=dfq_epsilon_softmax_results['total_log_likelihood'],\n",
    "            ll_restricted=dfq_results['total_log_likelihood'],\n",
    "            num_params_full=5,\n",
    "            num_params_restricted=4\n",
    "            )\n",
    "dfq_vs_dual_lr = likelihood_ratio_test(\n",
    "            ll_full=dfq_dual_lr_results['total_log_likelihood'],\n",
    "            ll_restricted=dfq_results['total_log_likelihood'],\n",
    "            num_params_full=5,\n",
    "            num_params_restricted=4\n",
    "            )  \n",
    "dfq_vs_dynamic_exploration = likelihood_ratio_test(\n",
    "            ll_full=dfq_dynamic_exploration_results['total_log_likelihood'],\n",
    "            ll_restricted=dfq_results['total_log_likelihood'],\n",
    "            num_params_full=7,\n",
    "            num_params_restricted=4\n",
    "            )\n",
    "print(f\"DFQ vs Init: {dfq_vs_init:.2f}; DFQ vs Epsilon Softmax: {dfq_vs_epsilon_softmax:.2f}; DFQ vs Dual LR: {dfq_vs_dual_lr:.2f}; DFQ vs Dynamic Exploration: {dfq_vs_dynamic_exploration:.2f}\")"
   ]
  },
  {
   "cell_type": "code",
   "execution_count": null,
   "metadata": {},
   "outputs": [],
   "source": [
    "# create a subject-level dataframe\n",
    "dfq_subjects = pd.DataFrame(dfq_results['subject_log_likelihood'].items(), columns=['subject', 'log_likelihood'])\n",
    "dfq_subjects['model'] = 'DFQ'\n",
    "dfq_init_subjects = pd.DataFrame(dfq_init_results['subject_log_likelihood'].items(), columns=['subject', 'log_likelihood'])\n",
    "dfq_init_subjects['model'] = 'DFQ with Init'\n",
    "dfq_epsilon_softmax_subjects = pd.DataFrame(dfq_epsilon_softmax_results['subject_log_likelihood'].items(), columns=['subject', 'log_likelihood'])\n",
    "dfq_epsilon_softmax_subjects['model'] = 'DFQ with Epsilon Softmax'\n",
    "dfq_dual_lr_subjects = pd.DataFrame(dfq_dual_lr_results['subject_log_likelihood'].items(), columns=['subject', 'log_likelihood'])\n",
    "dfq_dual_lr_subjects['model'] = 'DFQ with Dual LR'\n",
    "dfq_adv_subjects = pd.DataFrame(dfq_dynamic_exploration_results['subject_log_likelihood'].items(), columns=['subject', 'log_likelihood'])\n",
    "dfq_adv_subjects['model'] = 'DFQ with Dynamic Exploration'\n",
    "# concatenate the dataframes\n",
    "subjects = pd.concat([dfq_subjects, dfq_init_subjects, dfq_epsilon_softmax_subjects, dfq_dual_lr_subjects, dfq_adv_subjects])\n",
    "\n",
    "# sort by model and subject\n",
    "subjects = subjects.sort_values(by=['model', 'subject']).reset_index(drop=True)\n",
    "\n",
    "# get index for DFQ model\n",
    "dfq_idx = subjects[subjects['subject']==0].reset_index(drop=True)\n",
    "dfq_idx = dfq_idx[dfq_idx['model']=='DFQ'].index[0]\n",
    "print(dfq_idx)\n",
    "\n",
    "# for each subject, get the number of trials\n",
    "subjects['n_trials'] = subjects['subject'].apply(lambda x: len(experiments[x][0]))\n",
    "# get normalized likelihoods exp(log likelihood/n_trials)\n",
    "subjects['normalized_likelihood'] = np.exp(subjects['log_likelihood']/subjects['n_trials'])\n",
    "\n",
    "# from each subject, divide the log likelihood of the DFQ model\n",
    "subjects['normalized_likelihood_change'] = subjects.groupby('subject')['normalized_likelihood'].transform(lambda x: x/x.iloc[dfq_idx])\n",
    "# convert the log likelihoods to a percentage scale\n",
    "subjects['normalized_likelihood_change'] = (subjects['normalized_likelihood_change']-1)*100\n",
    "\n",
    "# plot the change in log likelihoods of the different models with paired scatter plots\n",
    "plt.figure(figsize=(2, 4))\n",
    "# drop DFQ vs DFQ\n",
    "subjects_change = subjects[subjects['model'] != 'DFQ']\n",
    "# change the names of the models\n",
    "subjects_change.loc[:, 'model'] = subjects_change['model'].replace({\n",
    "    'DFQ with Init': '+ Value Initialization',\n",
    "    'DFQ with Epsilon Softmax': '+ Epsilon Softmax Exploration',\n",
    "    'DFQ with Dual LR': '+ Dual Learning Rates',\n",
    "    'DFQ with Dynamic Exploration': '+ Dynamic Exploration'\n",
    "})\n",
    "\n",
    "sns.stripplot(x='model', y='normalized_likelihood_change', data=subjects_change, jitter=True, alpha=0.5, palette='colorblind', hue='model', size=2, zorder=0)\n",
    "sns.pointplot(x='model', y='normalized_likelihood_change', data=subjects_change, markers='_', errorbar=('ci', 95), capsize=0.2, color='black', zorder=1, linewidth=1.5, linestyles='none')\n",
    "plt.ylabel('Difference in Normalized\\nLikelihood (% points)')\n",
    "plt.axhline(0, color='black', linestyle='--')\n",
    "sns.despine()\n",
    "\n",
    "plt.xticks(rotation=90)\n",
    "plt.xlabel('')\n",
    "# add the significance stars for the paired Wilcoxon signed-rank test between DFQ and the other models\n",
    "for model in subjects_change['model'].unique():\n",
    "    if model == 'DFQ':\n",
    "        continue\n",
    "    # perform the Wilcoxon signed-rank test\n",
    "    dfq_model = subjects[subjects['model'] == 'DFQ'].sort_values(by='subject')['normalized_likelihood'].values\n",
    "    other_model = subjects_change[subjects_change['model'] == model].sort_values(by='subject')['normalized_likelihood'].values\n",
    "    _, p = stats.wilcoxon(dfq_model, other_model)\n",
    "    # adjust for multiple comparisons (Bonferroni correction)\n",
    "    p *= len(subjects_change['model'].unique())\n",
    "    # add the significance stars\n",
    "    plt.text(subjects_change['model'].unique().tolist().index(model), 2, significance_stars(p), ha='center', va='center')\n",
    "    print(f\"DFQ vs {model}: p-val:{p:.2e},{significance_stars(p)}\")\n",
    "plt.show()\n",
    "\n"
   ]
  },
  {
   "cell_type": "code",
   "execution_count": null,
   "metadata": {},
   "outputs": [],
   "source": [
    "set1 = subjects[subjects['model'] == 'DFQ with Init'].sort_values(by='subject')['normalized_likelihood'].values\n",
    "set2 = subjects[subjects['model'] == 'DFQ'].sort_values(by='subject')['normalized_likelihood'].values\n",
    "plt.scatter(set1, set2)\n",
    "plt.plot([np.min(set1), np.max(set1)], [np.min(set1), np.max(set1)], color='black', linestyle='--')\n",
    "plt.xlabel('DFQ with Dual LR')\n",
    "plt.ylabel('DFQ')\n",
    "plt.show()\n",
    "s,p = stats.wilcoxon(set1, set2)\n",
    "p*=4\n",
    "p\n"
   ]
  },
  {
   "cell_type": "code",
   "execution_count": null,
   "metadata": {},
   "outputs": [],
   "source": []
  }
 ],
 "metadata": {
  "kernelspec": {
   "display_name": ".venv",
   "language": "python",
   "name": "python3"
  },
  "language_info": {
   "codemirror_mode": {
    "name": "ipython",
    "version": 3
   },
   "file_extension": ".py",
   "mimetype": "text/x-python",
   "name": "python",
   "nbconvert_exporter": "python",
   "pygments_lexer": "ipython3",
   "version": "3.10.14"
  }
 },
 "nbformat": 4,
 "nbformat_minor": 2
}
